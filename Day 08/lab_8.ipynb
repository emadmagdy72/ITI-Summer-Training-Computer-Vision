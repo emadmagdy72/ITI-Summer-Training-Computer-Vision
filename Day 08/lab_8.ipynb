{
 "cells": [
  {
   "cell_type": "code",
   "execution_count": 1,
   "metadata": {},
   "outputs": [],
   "source": [
    "import numpy as np\n",
    "import cv2\n",
    "import matplotlib.pyplot as plt"
   ]
  },
  {
   "cell_type": "markdown",
   "metadata": {},
   "source": [
    "Q1: Make 100*100 rgb pixel image with white background and make diagonal of image\n",
    "with black color."
   ]
  },
  {
   "cell_type": "code",
   "execution_count": 10,
   "metadata": {},
   "outputs": [
    {
     "data": {
      "text/plain": [
       "<matplotlib.image.AxesImage at 0x1a81dd48580>"
      ]
     },
     "execution_count": 10,
     "metadata": {},
     "output_type": "execute_result"
    },
    {
     "data": {
      "image/png": "[encoded data removed]",
      "text/plain": [
       "<Figure size 432x288 with 1 Axes>"
      ]
     },
     "metadata": {
      "needs_background": "light"
     },
     "output_type": "display_data"
    }
   ],
   "source": [
    "img = np.full((100,100,3),255,np.uint8)\n",
    "plt.imshow(img)"
   ]
  },
  {
   "cell_type": "code",
   "execution_count": 11,
   "metadata": {},
   "outputs": [
    {
     "data": {
      "text/plain": [
       "<matplotlib.image.AxesImage at 0x1a81dda2fd0>"
      ]
     },
     "execution_count": 11,
     "metadata": {},
     "output_type": "execute_result"
    },
    {
     "data": {
      "image/png": "[encoded data removed]",
      "text/plain": [
       "<Figure size 432x288 with 1 Axes>"
      ]
     },
     "metadata": {
      "needs_background": "light"
     },
     "output_type": "display_data"
    }
   ],
   "source": [
    "for i, row in enumerate(img):\n",
    "    for j, col in enumerate(row):\n",
    "        if (i==j):\n",
    "            img[i,j] = [0,0,0]\n",
    "plt.imshow(img)"
   ]
  },
  {
   "cell_type": "markdown",
   "metadata": {},
   "source": [
    "Q2- run video stream using your laptop camera and save frames when i press key\n",
    "“s” close camera when i press “q” ,name of images should be “img.png +{counter}"
   ]
  },
  {
   "cell_type": "code",
   "execution_count": 5,
   "metadata": {},
   "outputs": [],
   "source": [
    "cap = cv2.VideoCapture(0)\n",
    "\n",
    "frame_id = 0\n",
    "while(cap.isOpened()):\n",
    "    ret, frame = cap.read()\n",
    "    if (ret == True):\n",
    "        frame_id += 1\n",
    "        cv2.imshow('Label', frame)\n",
    "        k = cv2.waitKey(100)\n",
    "        if k == ord('s'):\n",
    "            cv2.imwrite(f'images/photo_{frame_id}.png', frame)\n",
    "        if k == ord('q'):\n",
    "            break\n",
    "    else:\n",
    "        break\n",
    "\n",
    "# Code here\n",
    "\n",
    "cap.release()\n",
    "cv2.destroyAllWindows()"
   ]
  },
  {
   "cell_type": "markdown",
   "metadata": {},
   "source": [
    "Q3: Make 100*100 rgb pixel image with black background and make diagonal of image\n",
    "with (x) color such that x is came from rgb trackbar."
   ]
  },
  {
   "cell_type": "code",
   "execution_count": 15,
   "metadata": {},
   "outputs": [],
   "source": [
    "cv2.namedWindow('image')\n",
    "\n",
    "def func(x):\n",
    "    pass\n",
    "\n",
    "cv2.createTrackbar('R','image',0,255,func)\n",
    "cv2.createTrackbar('G','image',0,255,func)\n",
    "cv2.createTrackbar('B','image',0,255,func)\n",
    "img = np.zeros((512,512,3),np.uint8)\n",
    "while True:\n",
    "    r = cv2.getTrackbarPos('R', 'image')\n",
    "    g = cv2.getTrackbarPos('G', 'image')\n",
    "    b = cv2.getTrackbarPos('B', 'image')\n",
    "    for i, row in enumerate(img):\n",
    "        for j, col in enumerate(row):\n",
    "            if (i==j):\n",
    "                img[i,j] = [r,g,b]\n",
    "    \n",
    "    cv2.imshow('image',img)\n",
    "    k = cv2.waitKey(1)\n",
    "    if k == ord('q'):\n",
    "        break\n",
    "\n",
    "cv2.destroyAllWindows()\n",
    "    \n"
   ]
  },
  {
   "cell_type": "markdown",
   "metadata": {},
   "source": [
    "Q4\n",
    "create 100*100 rgb image with black background and make 1 vertical line and 1\n",
    "horizontal line the color of both should be controlled spereat from 2 trackbar\n",
    "First one “horz” and second one is “vert”"
   ]
  },
  {
   "cell_type": "code",
   "execution_count": 22,
   "metadata": {},
   "outputs": [],
   "source": [
    "cv2.namedWindow('image')\n",
    "\n",
    "def func(x):\n",
    "    pass\n",
    "\n",
    "cv2.createTrackbar('VertR','image',0,255,func)\n",
    "cv2.createTrackbar('VertG','image',0,255,func)\n",
    "cv2.createTrackbar('VertB','image',0,255,func)\n",
    "cv2.createTrackbar('HorzR','image',0,255,func)\n",
    "cv2.createTrackbar('HorzG','image',0,255,func)\n",
    "cv2.createTrackbar('HorzB','image',0,255,func)\n",
    "\n",
    "\n",
    "img = np.zeros((512,512,3),np.uint8)\n",
    "while True:\n",
    "    vr = cv2.getTrackbarPos('VertR', 'image')\n",
    "    vg = cv2.getTrackbarPos('VertG', 'image')\n",
    "    vb = cv2.getTrackbarPos('VertB', 'image')\n",
    "\n",
    "    hr = cv2.getTrackbarPos('HorzR', 'image')\n",
    "    hg = cv2.getTrackbarPos('HorzG', 'image')\n",
    "    hb = cv2.getTrackbarPos('HorzB', 'image')\n",
    "    img[10] = [hr,hg,hb]\n",
    "    img[:,450] = [vr,vg,vb]\n",
    "    \n",
    "    cv2.imshow('image',img)\n",
    "    k = cv2.waitKey(1)\n",
    "    if k == ord('q'):\n",
    "        break\n",
    "\n",
    "cv2.destroyAllWindows()\n",
    "    \n"
   ]
  },
  {
   "cell_type": "markdown",
   "metadata": {},
   "source": [
    "Q5: create 250*250 rgb image with black background and make 1 vertical line and 1\n",
    "horizontal line with red color and both should be controlled spereat from 2\n",
    "trackbar to select the horizontal line in which row and vertical line in which\n",
    "column.\n",
    "First one “horz” and second one is “vert” (Trackbar) "
   ]
  },
  {
   "cell_type": "code",
   "execution_count": 2,
   "metadata": {},
   "outputs": [],
   "source": [
    "cv2.namedWindow('image')\n",
    "\n",
    "def func(x):\n",
    "    pass\n",
    "\n",
    "cv2.createTrackbar('Vert','image',0,511,func)\n",
    "cv2.createTrackbar('Horz','image',0,511,func)\n",
    "\n",
    "img = np.zeros((512,512,3),np.uint8)\n",
    "while True:\n",
    "    v = cv2.getTrackbarPos('Vert', 'image')\n",
    "    h = cv2.getTrackbarPos('Horz', 'image')\n",
    "    img[:] = 0\n",
    "    img[h] = [0,0,255]\n",
    "    img[:,v] = [0,0,255]\n",
    "    \n",
    "    cv2.imshow('image',img)\n",
    "    k = cv2.waitKey(1)\n",
    "    if k == ord('q'):\n",
    "        break\n",
    "\n",
    "cv2.destroyAllWindows()"
   ]
  }
 ],
 "metadata": {
  "kernelspec": {
   "display_name": "Python 3.10.2 64-bit",
   "language": "python",
   "name": "python3"
  },
  "language_info": {
   "codemirror_mode": {
    "name": "ipython",
    "version": 3
   },
   "file_extension": ".py",
   "mimetype": "text/x-python",
   "name": "python",
   "nbconvert_exporter": "python",
   "pygments_lexer": "ipython3",
   "version": "3.10.2"
  },
  "orig_nbformat": 4,
  "vscode": {
   "interpreter": {
    "hash": "26de051ba29f2982a8de78e945f0abaf191376122a1563185a90213a26c5da77"
   }
  }
 },
 "nbformat": 4,
 "nbformat_minor": 2
}
